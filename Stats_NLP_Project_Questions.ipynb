{
  "nbformat": 4,
  "nbformat_minor": 0,
  "metadata": {
    "colab": {
      "name": "Stats_NLP_Project_Questions.ipynb",
      "version": "0.3.2",
      "provenance": [],
      "collapsed_sections": [],
      "toc_visible": true,
      "include_colab_link": true
    },
    "kernelspec": {
      "name": "python3",
      "display_name": "Python 3"
    },
    "accelerator": "GPU"
  },
  "cells": [
    {
      "cell_type": "markdown",
      "metadata": {
        "id": "view-in-github",
        "colab_type": "text"
      },
      "source": [
        "<a href=\"https://colab.research.google.com/github/mmanchem/ArjunPython/blob/master/Stats_NLP_Project_Questions.ipynb\" target=\"_parent\"><img src=\"https://colab.research.google.com/assets/colab-badge.svg\" alt=\"Open In Colab\"/></a>"
      ]
    },
    {
      "cell_type": "markdown",
      "metadata": {
        "id": "6Rc_ahEnTF9m",
        "colab_type": "text"
      },
      "source": [
        "# Predict tags on StackOverflow with linear models"
      ]
    },
    {
      "cell_type": "markdown",
      "metadata": {
        "id": "R28O-dG90vt9",
        "colab_type": "text"
      },
      "source": [
        "# New Section"
      ]
    },
    {
      "cell_type": "markdown",
      "metadata": {
        "id": "zSq4Uzh6TF9q",
        "colab_type": "text"
      },
      "source": [
        "### Data\n",
        "\n",
        "You can find all data required for this assignment into the folder `/data`."
      ]
    },
    {
      "cell_type": "markdown",
      "metadata": {
        "id": "E5hmogPBTF9p",
        "colab_type": "text"
      },
      "source": [
        "In this assignment you will learn how to predict tags for posts from [StackOverflow](https://stackoverflow.com). To solve this task you will use multilabel classification approach.\n",
        "\n",
        "### Libraries\n",
        "\n",
        "In this task you will need the following libraries:\n",
        "- [Numpy](http://www.numpy.org) — a package for scientific computing.\n",
        "- [Pandas](https://pandas.pydata.org) — a library providing high-performance, easy-to-use data structures and data analysis tools for the Python\n",
        "- [scikit-learn](http://scikit-learn.org/stable/index.html) — a tool for data mining and data analysis.\n",
        "- [NLTK](http://www.nltk.org) — a platform to work with natural language."
      ]
    },
    {
      "cell_type": "markdown",
      "metadata": {
        "id": "2V1gba1KTF9r",
        "colab_type": "text"
      },
      "source": [
        "### Text preprocessing"
      ]
    },
    {
      "cell_type": "markdown",
      "metadata": {
        "id": "WnvsWcP9TF9t",
        "colab_type": "text"
      },
      "source": [
        "For this assignment you will need to use a list of stop words. It can be downloaded from *nltk*:"
      ]
    },
    {
      "cell_type": "code",
      "metadata": {
        "id": "R-RxVRvsTF9u",
        "colab_type": "code",
        "outputId": "3b7d8d9f-072a-43a6-c83d-8beb5f032b02",
        "colab": {
          "base_uri": "https://localhost:8080/",
          "height": 51
        }
      },
      "source": [
        "import nltk\n",
        "nltk.download('stopwords')\n",
        "from nltk.corpus import stopwords"
      ],
      "execution_count": 1,
      "outputs": [
        {
          "output_type": "stream",
          "text": [
            "[nltk_data] Downloading package stopwords to /root/nltk_data...\n",
            "[nltk_data]   Unzipping corpora/stopwords.zip.\n"
          ],
          "name": "stdout"
        }
      ]
    },
    {
      "cell_type": "markdown",
      "metadata": {
        "id": "pDahiblaU-e7",
        "colab_type": "text"
      },
      "source": [
        "Literal_eval package takes care of the preprocessing for the string so that it can be used in python. To know more on literal_eval please see the below documentation <br>\n",
        "https://kite.com/python/docs/ast.literal_eval"
      ]
    },
    {
      "cell_type": "markdown",
      "metadata": {
        "id": "ErHWjimITF91",
        "colab_type": "text"
      },
      "source": [
        "In this task you will deal with a dataset of post titles from StackOverflow. You are provided a split to 3 sets: *train*, *validation* and *test*. All corpora (except for *test*) contain titles of the posts and corresponding tags (100 tags are available). The *test* set doesn't contain answers. Upload the corpora using *pandas* and look at the data:"
      ]
    },
    {
      "cell_type": "code",
      "metadata": {
        "id": "-ufeO-nfVGha",
        "colab_type": "code",
        "colab": {}
      },
      "source": [
        "from ast import literal_eval\n",
        "import pandas as pd\n",
        "import numpy as np"
      ],
      "execution_count": 0,
      "outputs": []
    },
    {
      "cell_type": "markdown",
      "metadata": {
        "id": "bubX7TSLVLXR",
        "colab_type": "text"
      },
      "source": [
        "## Task 1: Create training, testing and validation data from the files given. Use title to be the independent variable and tags to be the dependent variable ( 5 points)"
      ]
    },
    {
      "cell_type": "markdown",
      "metadata": {
        "id": "KBFMf3bhVPb_",
        "colab_type": "text"
      },
      "source": [
        "Note: Ensure you apply literal_eval function on the tags column to ensure all the tags are readable in python"
      ]
    },
    {
      "cell_type": "code",
      "metadata": {
        "id": "HPaUfSVvTF99",
        "colab_type": "code",
        "colab": {
          "base_uri": "https://localhost:8080/",
          "height": 156
        },
        "outputId": "ab3e62a4-e5c0-45ac-f9a7-3e04abd02568"
      },
      "source": [
        "from google.colab import drive\n",
        "drive.mount('/content/drive')\n",
        "!ls \"/content/drive/My Drive/Data_Science\"\n"
      ],
      "execution_count": 3,
      "outputs": [
        {
          "output_type": "stream",
          "text": [
            "Go to this URL in a browser: https://accounts.google.com/o/oauth2/auth?client_id=947318989803-6bn6qk8qdgf4n4g3pfee6491hc0brc4i.apps.googleusercontent.com&redirect_uri=urn%3Aietf%3Awg%3Aoauth%3A2.0%3Aoob&scope=email%20https%3A%2F%2Fwww.googleapis.com%2Fauth%2Fdocs.test%20https%3A%2F%2Fwww.googleapis.com%2Fauth%2Fdrive%20https%3A%2F%2Fwww.googleapis.com%2Fauth%2Fdrive.photos.readonly%20https%3A%2F%2Fwww.googleapis.com%2Fauth%2Fpeopleapi.readonly&response_type=code\n",
            "\n",
            "Enter your authorization code:\n",
            "··········\n",
            "Mounted at /content/drive\n",
            "bank.csv\t  metrics.py  test.tsv\t validation.tsv\n",
            "cars-dataset.csv  test.pdf    train.tsv  Ztable.pdf\n"
          ],
          "name": "stdout"
        }
      ]
    },
    {
      "cell_type": "code",
      "metadata": {
        "id": "x8iH7o77TF96",
        "colab_type": "code",
        "colab": {}
      },
      "source": [
        "test=pd.read_csv('/content/drive/My Drive/Data_Science/test.tsv',sep='\\t')"
      ],
      "execution_count": 0,
      "outputs": []
    },
    {
      "cell_type": "code",
      "metadata": {
        "id": "d4pPOmFvTF-B",
        "colab_type": "code",
        "colab": {}
      },
      "source": [
        "def read_data(filename):\n",
        "    data = pd.read_csv(filename, sep='\\t')\n",
        "    data['tags'] = data['tags'].apply(literal_eval)\n",
        "    return data"
      ],
      "execution_count": 0,
      "outputs": []
    },
    {
      "cell_type": "code",
      "metadata": {
        "id": "USlubitlTF-G",
        "colab_type": "code",
        "colab": {}
      },
      "source": [
        "train=read_data('/content/drive/My Drive/Data_Science/train.tsv')\n",
        "validation=read_data('/content/drive/My Drive/Data_Science/validation.tsv')"
      ],
      "execution_count": 0,
      "outputs": []
    },
    {
      "cell_type": "code",
      "metadata": {
        "id": "qjyWvb7tkZiA",
        "colab_type": "code",
        "colab": {
          "base_uri": "https://localhost:8080/",
          "height": 204
        },
        "outputId": "70e4995a-6b12-4269-e299-0d62838c7c99"
      },
      "source": [
        "train.head()\n",
        "test.head()\n",
        "validation.head()"
      ],
      "execution_count": 7,
      "outputs": [
        {
          "output_type": "execute_result",
          "data": {
            "text/html": [
              "<div>\n",
              "<style scoped>\n",
              "    .dataframe tbody tr th:only-of-type {\n",
              "        vertical-align: middle;\n",
              "    }\n",
              "\n",
              "    .dataframe tbody tr th {\n",
              "        vertical-align: top;\n",
              "    }\n",
              "\n",
              "    .dataframe thead th {\n",
              "        text-align: right;\n",
              "    }\n",
              "</style>\n",
              "<table border=\"1\" class=\"dataframe\">\n",
              "  <thead>\n",
              "    <tr style=\"text-align: right;\">\n",
              "      <th></th>\n",
              "      <th>title</th>\n",
              "      <th>tags</th>\n",
              "    </tr>\n",
              "  </thead>\n",
              "  <tbody>\n",
              "    <tr>\n",
              "      <th>0</th>\n",
              "      <td>Why odbc_exec always fail?</td>\n",
              "      <td>[php, sql]</td>\n",
              "    </tr>\n",
              "    <tr>\n",
              "      <th>1</th>\n",
              "      <td>Access a base classes variable from within a c...</td>\n",
              "      <td>[javascript]</td>\n",
              "    </tr>\n",
              "    <tr>\n",
              "      <th>2</th>\n",
              "      <td>Content-Type \"application/json\" not required i...</td>\n",
              "      <td>[ruby-on-rails, ruby]</td>\n",
              "    </tr>\n",
              "    <tr>\n",
              "      <th>3</th>\n",
              "      <td>Sessions in Sinatra: Used to Pass Variable</td>\n",
              "      <td>[ruby, session]</td>\n",
              "    </tr>\n",
              "    <tr>\n",
              "      <th>4</th>\n",
              "      <td>Getting error - type \"json\" does not exist - i...</td>\n",
              "      <td>[ruby-on-rails, ruby, json]</td>\n",
              "    </tr>\n",
              "  </tbody>\n",
              "</table>\n",
              "</div>"
            ],
            "text/plain": [
              "                                               title  \\\n",
              "0                         Why odbc_exec always fail?   \n",
              "1  Access a base classes variable from within a c...   \n",
              "2  Content-Type \"application/json\" not required i...   \n",
              "3         Sessions in Sinatra: Used to Pass Variable   \n",
              "4  Getting error - type \"json\" does not exist - i...   \n",
              "\n",
              "                          tags  \n",
              "0                   [php, sql]  \n",
              "1                 [javascript]  \n",
              "2        [ruby-on-rails, ruby]  \n",
              "3              [ruby, session]  \n",
              "4  [ruby-on-rails, ruby, json]  "
            ]
          },
          "metadata": {
            "tags": []
          },
          "execution_count": 7
        }
      ]
    },
    {
      "cell_type": "code",
      "metadata": {
        "id": "sH1rK4DrlAZI",
        "colab_type": "code",
        "colab": {}
      },
      "source": [
        "X_train, y_train = train['title'].values, train['tags'].values\n",
        "X_val, y_val = validation['title'].values, validation['tags'].values\n",
        "X_test = test['title'].values\n"
      ],
      "execution_count": 0,
      "outputs": []
    },
    {
      "cell_type": "markdown",
      "metadata": {
        "id": "Bcb3kXUSTF-M",
        "colab_type": "text"
      },
      "source": [
        "## Task 2 (Pre-processing). Implement the function *text_prepare* following the instructions. After that, run the function *test_test_prepare* to test it on tiny cases. (10 points)\n",
        "\n",
        "One of the most known difficulties when working with natural data is that it's unstructured. For example, if you use it \"as is\" and extract tokens just by splitting the titles by whitespaces, you will see that there are many \"weird\" tokens like *3.5*, *?*,  *{}*, etc. To prevent the problems, it's usually useful to prepare the data in a custom way\n"
      ]
    },
    {
      "cell_type": "code",
      "metadata": {
        "id": "PBSchmxtTF-N",
        "colab_type": "code",
        "colab": {}
      },
      "source": [
        "import re"
      ],
      "execution_count": 0,
      "outputs": []
    },
    {
      "cell_type": "code",
      "metadata": {
        "id": "iI1plv6WTF-R",
        "colab_type": "code",
        "colab": {}
      },
      "source": [
        "REPLACE_BY_SPACE_RE = re.compile('[/(){}\\[\\]\\|@,;]')\n",
        "BAD_SYMBOLS_RE = re.compile('[^0-9a-z #+_]')\n",
        "STOPWORDS = set(stopwords.words('english'))\n",
        "\n",
        "def text_prepare(text): ### The function will take in text and lower case it remove the stopwords, symbols and return it.\n",
        "    text =text.lower()                              ### Write a code which can change the input text to lowercase.\n",
        "    text =re.sub(REPLACE_BY_SPACE_RE,' ',text)      ### Write a code which replaces REPLACE_BY_SPACE_RE (above mentioned) symbols by space in text\n",
        "    text =re.sub(BAD_SYMBOLS_RE,'',text)            ### Write a code which deletes symbols which are in BAD_SYMBOLS_RE (above mentioned) from text\n",
        "    text=text.split()\n",
        "    text = [word for word in text if not word in STOPWORDS ] ### Write a code which deletes stopwords from text\n",
        "    text = ' '.join(text)\n",
        "    return text\n",
        "  \n"
      ],
      "execution_count": 0,
      "outputs": []
    },
    {
      "cell_type": "code",
      "metadata": {
        "id": "t5LQEgMATF-Y",
        "colab_type": "code",
        "colab": {}
      },
      "source": [
        "def test_text_prepare():\n",
        "    examples = [\"SQL Server - any equivalent of Excel's CHOOSE function?\",\n",
        "                \"How to free c++ memory vector<int> * arr?\"]\n",
        "    answers = [\"sql server equivalent excels choose function\", \n",
        "               \"free c++ memoryg vectorint arr\"]\n",
        "    for ex, ans in zip(examples, answers):\n",
        "        if text_prepare(ex) != ans:\n",
        "            return \"Wrong answer for the case: '%s'\" % ex\n",
        "    return 'Basic tests are passed.'"
      ],
      "execution_count": 0,
      "outputs": []
    },
    {
      "cell_type": "markdown",
      "metadata": {
        "id": "6t2DpralVokG",
        "colab_type": "text"
      },
      "source": [
        "Execute the test_text_prepare function"
      ]
    },
    {
      "cell_type": "code",
      "metadata": {
        "id": "ihi8I2yQTF-b",
        "colab_type": "code",
        "outputId": "80435e48-e2d7-4106-9a37-beb66a24bd43",
        "colab": {
          "base_uri": "https://localhost:8080/",
          "height": 34
        }
      },
      "source": [
        "test_text_prepare()"
      ],
      "execution_count": 12,
      "outputs": [
        {
          "output_type": "execute_result",
          "data": {
            "text/plain": [
              "\"Wrong answer for the case: 'How to free c++ memory vector<int> * arr?'\""
            ]
          },
          "metadata": {
            "tags": []
          },
          "execution_count": 12
        }
      ]
    },
    {
      "cell_type": "markdown",
      "metadata": {
        "id": "ettHAZ8eVt1R",
        "colab_type": "text"
      },
      "source": [
        "*Note: You should pass the above test to ensure the text preprocessing is done before our analysis*"
      ]
    },
    {
      "cell_type": "markdown",
      "metadata": {
        "id": "KdxIZxWTELe7",
        "colab_type": "text"
      },
      "source": [
        ""
      ]
    },
    {
      "cell_type": "markdown",
      "metadata": {
        "id": "m4QYNYlkELXP",
        "colab_type": "text"
      },
      "source": [
        ""
      ]
    },
    {
      "cell_type": "markdown",
      "metadata": {
        "id": "QV5JC6HXTF-k",
        "colab_type": "text"
      },
      "source": [
        "Now we can preprocess the titles using function *text_prepare* and  making sure that the headers don't have bad symbols:"
      ]
    },
    {
      "cell_type": "code",
      "metadata": {
        "id": "gOZKuHnGTF-k",
        "colab_type": "code",
        "colab": {}
      },
      "source": [
        "X_train = [text_prepare(x) for x in X_train]\n",
        "X_val = [text_prepare(x) for x in X_val]\n",
        "X_test = [text_prepare(x) for x in X_test]"
      ],
      "execution_count": 0,
      "outputs": []
    },
    {
      "cell_type": "markdown",
      "metadata": {
        "id": "AfWls32MV5Uu",
        "colab_type": "text"
      },
      "source": [
        "Print the top 5 elements in x_train"
      ]
    },
    {
      "cell_type": "code",
      "metadata": {
        "id": "3BP3LiGsTF-o",
        "colab_type": "code",
        "colab": {
          "base_uri": "https://localhost:8080/",
          "height": 102
        },
        "outputId": "25a59abb-7f6c-432d-a985-330152d45418"
      },
      "source": [
        "X_train[0:5]"
      ],
      "execution_count": 14,
      "outputs": [
        {
          "output_type": "execute_result",
          "data": {
            "text/plain": [
              "['draw stacked dotplot r',\n",
              " 'mysql select records datetime field less specified value',\n",
              " 'terminate windows phone 81 app',\n",
              " 'get current time specific country via jquery',\n",
              " 'configuring tomcat use ssl']"
            ]
          },
          "metadata": {
            "tags": []
          },
          "execution_count": 14
        }
      ]
    },
    {
      "cell_type": "code",
      "metadata": {
        "id": "_kD2LM-CIJx-",
        "colab_type": "code",
        "outputId": "dc1db361-e50a-4942-ddd8-742e1c6be68c",
        "colab": {
          "base_uri": "https://localhost:8080/",
          "height": 102
        }
      },
      "source": [
        "X_test[0:5]"
      ],
      "execution_count": 15,
      "outputs": [
        {
          "output_type": "execute_result",
          "data": {
            "text/plain": [
              "['warning mysql_query expects parameter 2 resource object given',\n",
              " 'get click coordinates input typeimage via javascript',\n",
              " 'implement cloud storage media assets zf',\n",
              " 'catcomplete jquerys autocomplete plugin',\n",
              " 'error building android app cordova 31 cli']"
            ]
          },
          "metadata": {
            "tags": []
          },
          "execution_count": 15
        }
      ]
    },
    {
      "cell_type": "markdown",
      "metadata": {
        "id": "At_ZTeqTTF-t",
        "colab_type": "text"
      },
      "source": [
        "## Task 2 (WordsTagsCount) - Find 3 most popular tags and 3 most popular words in the train data. - 5 points"
      ]
    },
    {
      "cell_type": "markdown",
      "metadata": {
        "id": "x2mT1f7gWKSu",
        "colab_type": "text"
      },
      "source": [
        "Note: The words which appear the most are considered as popular in this case!"
      ]
    },
    {
      "cell_type": "code",
      "metadata": {
        "id": "q-eQoxipTF-v",
        "colab_type": "code",
        "colab": {}
      },
      "source": [
        "from collections import defaultdict\n",
        "# Dictionary of all tags from train corpus with their counts.\n",
        "tags_counts =  defaultdict(int)\n",
        "# Dictionary of all words from train corpus with their counts.\n",
        "words_counts =  defaultdict(int)\n",
        "\n",
        "for text in X_train:\n",
        "    for word in text.split():\n",
        "        words_counts[word] += 1\n",
        "\n",
        "\n",
        "for tags in y_train:\n",
        "    for tag in tags:\n",
        "        tags_counts[tag] += 1\n"
      ],
      "execution_count": 0,
      "outputs": []
    },
    {
      "cell_type": "markdown",
      "metadata": {
        "id": "xkwg8_WNTF-3",
        "colab_type": "text"
      },
      "source": [
        "We are assuming that *tags_counts* and *words_counts* are dictionaries like `{'some_word_or_tag': frequency}`. After applying the sorting procedure, results will be look like this: `[('most_popular_word_or_tag', frequency), ('less_popular_word_or_tag', frequency), ...]`.\n",
        "\n",
        "eg: \n",
        "Tag 1 - 100 Tag 2 - 65 Tag 3 - 250 <br>\n",
        "after sorting looks like, <br>\n",
        "Tag 3 - 250 Tag 1 - 100 Tag 2 - 65"
      ]
    },
    {
      "cell_type": "code",
      "metadata": {
        "id": "u4itecWwyl-Z",
        "colab_type": "code",
        "colab": {}
      },
      "source": [
        "words_counts"
      ],
      "execution_count": 0,
      "outputs": []
    },
    {
      "cell_type": "code",
      "metadata": {
        "id": "RSCPa54uTF-4",
        "colab_type": "code",
        "outputId": "dff8ae16-409b-4634-adbc-72aafb34a41c",
        "colab": {
          "base_uri": "https://localhost:8080/",
          "height": 51
        }
      },
      "source": [
        "words_counts_max_min=nltk.FreqDist(words_counts)\n",
        "import operator\n",
        "words_counts_max_min = sorted(words_counts_max_min.items(), key=operator.itemgetter(1))\n",
        "print('max word counts:',words_counts_max_min[-3:])\n",
        "print('min word counts:',words_counts_max_min[0:3])"
      ],
      "execution_count": 29,
      "outputs": [
        {
          "output_type": "stream",
          "text": [
            "max word counts: [('java', 5501), ('php', 5614), ('using', 8278)]\n",
            "min word counts: [('dotplot', 1), ('javalangclasst', 1), ('q_uestion', 1)]\n"
          ],
          "name": "stdout"
        }
      ]
    },
    {
      "cell_type": "code",
      "metadata": {
        "id": "YL-ZBj0FbWOv",
        "colab_type": "code",
        "outputId": "c27736a3-cabd-4b3b-84b0-802905dc534c",
        "colab": {
          "base_uri": "https://localhost:8080/",
          "height": 51
        }
      },
      "source": [
        "tags_counts_max_min=nltk.FreqDist(tags_counts)\n",
        "import operator\n",
        "tags_counts_max_min = sorted(tags_counts_max_min.items(), key=operator.itemgetter(1))\n",
        "print('max tag counts:',tags_counts_max_min[-3:])\n",
        "print('min tag counts:',tags_counts_max_min[0:3])"
      ],
      "execution_count": 31,
      "outputs": [
        {
          "output_type": "stream",
          "text": [
            "max tag counts: [('java', 18661), ('c#', 19077), ('javascript', 19078)]\n",
            "min tag counts: [('mongodb', 350), ('pointers', 350), ('sorting', 375)]\n"
          ],
          "name": "stdout"
        }
      ]
    },
    {
      "cell_type": "code",
      "metadata": {
        "id": "PExOLFNNSJfL",
        "colab_type": "code",
        "colab": {
          "base_uri": "https://localhost:8080/",
          "height": 17034
        },
        "outputId": "7c7859c5-159c-4a36-ff5e-9625b6c8b89f"
      },
      "source": [
        "words_counts"
      ],
      "execution_count": 27,
      "outputs": [
        {
          "output_type": "execute_result",
          "data": {
            "text/plain": [
              "[(('dotplot', 1), 1),\n",
              " (('javalangclasst', 1), 1),\n",
              " (('q_uestion', 1), 1),\n",
              " (('lauch', 1), 1),\n",
              " (('zy', 1), 1),\n",
              " (('scipyiosavemat', 1), 1),\n",
              " (('ijsonvalue', 1), 1),\n",
              " (('windowsdatajsonijsonvalue', 1), 1),\n",
              " (('captialisation', 1), 1),\n",
              " (('nondialog', 1), 1),\n",
              " (('destroies', 1), 1),\n",
              " (('realization', 1), 1),\n",
              " (('20120719', 1), 1),\n",
              " (('082400', 1), 1),\n",
              " (('qeurying', 1), 1),\n",
              " (('attr_encrypted', 1), 1),\n",
              " (('transposed', 1), 1),\n",
              " (('somename', 1), 1),\n",
              " (('toolbarbutton', 1), 1),\n",
              " (('insertitem', 1), 1),\n",
              " (('olson', 1), 1),\n",
              " (('ridviewid', 1), 1),\n",
              " (('tableid', 1), 1),\n",
              " (('decodeindirectref', 1), 1),\n",
              " (('notesnotessession', 1), 1),\n",
              " (('dominonotessession', 1), 1),\n",
              " (('moxie', 1), 1),\n",
              " (('propertyplaceholderconfigurerlike', 1), 1),\n",
              " (('smloginitemsetenabled', 1), 1),\n",
              " (('mambo', 1), 1),\n",
              " (('railties', 1), 1),\n",
              " (('antcreate', 1), 1),\n",
              " (('concanate', 1), 1),\n",
              " (('string+variable+string', 1), 1),\n",
              " (('javasecurityinvalidalgorithmparameterexception', 1), 1),\n",
              " (('rc6', 1), 1),\n",
              " (('directions_changed', 1), 1),\n",
              " (('sbmainworkspace', 1), 1),\n",
              " (('adodc', 1), 1),\n",
              " (('generatorelement', 1), 1),\n",
              " (('sequencetype', 1), 1),\n",
              " (('readonlycollections', 1), 1),\n",
              " (('parallelinstances', 1), 1),\n",
              " (('laravellog', 1), 1),\n",
              " (('basically', 1), 1),\n",
              " (('systemconcurrencyasynclock', 1), 1),\n",
              " (('centralwidget', 1), 1),\n",
              " (('00002efd', 1), 1),\n",
              " (('systemwindowsformsiwin32window', 1), 1),\n",
              " (('sunjava6jre', 1), 1),\n",
              " (('sharedstringtable', 1), 1),\n",
              " (('startend', 1), 1),\n",
              " (('cvcreatememstorage', 1), 1),\n",
              " (('cultureinfogetcultures', 1), 1),\n",
              " (('dofilterinternal', 1), 1),\n",
              " (('setsystemtime', 1), 1),\n",
              " (('nohup', 1), 1),\n",
              " (('yiibootstrap', 1), 1),\n",
              " (('javaioinputstreamreader', 1), 1),\n",
              " (('governing', 1), 1),\n",
              " (('frameworkelement', 1), 1),\n",
              " (('facesmessage', 1), 1),\n",
              " (('javautilset', 1), 1),\n",
              " (('compresses', 1), 1),\n",
              " (('kbps', 1), 1),\n",
              " (('1000000x1000000', 1), 1),\n",
              " (('0xae', 1), 1),\n",
              " (('npexp', 1), 1),\n",
              " (('status_code', 1), 1),\n",
              " (('action_search', 1), 1),\n",
              " (('jvmcfre003', 1), 1),\n",
              " (('mathematically', 1), 1),\n",
              " (('addressbar', 1), 1),\n",
              " (('exampphtdocsannouncementsannouncementphp', 1), 1),\n",
              " (('143', 1), 1),\n",
              " (('usernamepasswordauthenticationfilter', 1), 1),\n",
              " (('_objc_assign_global', 1), 1),\n",
              " (('_objc_assign_ivar', 1), 1),\n",
              " (('_objc_assign_strongcast', 1), 1),\n",
              " (('httpequivrefresh', 1), 1),\n",
              " (('content0', 1), 1),\n",
              " (('urlhttp', 1), 1),\n",
              " (('wwwxxxxxxlcom', 1), 1),\n",
              " (('action_up', 1), 1),\n",
              " (('process_reaper', 1), 1),\n",
              " (('eventfiring', 1), 1),\n",
              " (('colspans', 1), 1),\n",
              " (('groupstyle', 1), 1),\n",
              " (('transitionto', 1), 1),\n",
              " (('axisfault', 1), 1),\n",
              " (('axis2kernel154jar', 1), 1),\n",
              " (('richcombo', 1), 1),\n",
              " (('emptiness', 1), 1),\n",
              " (('jumplist', 1), 1),\n",
              " (('mains', 1), 1),\n",
              " (('libuuidso1', 1), 1),\n",
              " (('nscharacterset', 1), 1),\n",
              " (('netuihwnd', 1), 1),\n",
              " (('directuihwnd', 1), 1),\n",
              " (('contect', 1), 1),\n",
              " (('25x', 1), 1),\n",
              " (('mcrypt_module_open', 1), 1),\n",
              " (('durability', 1), 1),\n",
              " (('framwork', 1), 1),\n",
              " (('mappingjacksonjsonview', 1), 1),\n",
              " (('systemexecutionengineexception', 1), 1),\n",
              " (('shift_jis', 1), 1),\n",
              " (('1103', 1), 1),\n",
              " (('webdevelopers', 1), 1),\n",
              " (('crenditials', 1), 1),\n",
              " (('debugelement', 1), 1),\n",
              " (('nativeelement', 1), 1),\n",
              " (('componentfixture', 1), 1),\n",
              " (('type_forward_only', 1), 1),\n",
              " (('reissue', 1), 1),\n",
              " (('stringargument', 1), 1),\n",
              " (('tailer', 1), 1),\n",
              " (('logrotate', 1), 1),\n",
              " (('meshlambertmaterial', 1), 1),\n",
              " (('repainting', 1), 1),\n",
              " (('mousebuttondown', 1), 1),\n",
              " (('microsoftvisualstudiotesttoolstypesandsymbolsassembly', 1), 1),\n",
              " (('base64decoder', 1), 1),\n",
              " (('onelinexmlfiles', 1), 1),\n",
              " (('orghibernatetypestringtype', 1), 1),\n",
              " (('orghibernatetypeversiontype', 1), 1),\n",
              " (('applicatin', 1), 1),\n",
              " (('listexpandoobject', 1), 1),\n",
              " (('tvm', 1), 1),\n",
              " (('cpture', 1), 1),\n",
              " (('oslistdir', 1), 1),\n",
              " (('skrollr', 1), 1),\n",
              " (('extbuttonsplit', 1), 1),\n",
              " (('getblobreferencefromserver', 1), 1),\n",
              " (('uris', 1), 1),\n",
              " (('actionviewmissingtemplate', 1), 1),\n",
              " (('#anchor', 1), 1),\n",
              " (('rabbitmqc', 1), 1),\n",
              " (('#2060', 1), 1),\n",
              " (('svgsvgelement', 1), 1),\n",
              " (('this_getparam', 1), 1),\n",
              " (('rebound', 1), 1),\n",
              " (('broswer', 1), 1),\n",
              " (('homeaspx', 1), 1),\n",
              " (('nulltype', 1), 1),\n",
              " (('boostchronotime_point', 1), 1),\n",
              " (('boostchronosteady_clocktime_point', 1), 1),\n",
              " (('iofileio', 1), 1),\n",
              " (('webbrowserdocumenttype', 1), 1),\n",
              " (('technical', 1), 1),\n",
              " (('multipleform', 1), 1),\n",
              " (('listactivity', 1), 1),\n",
              " (('getasync', 1), 1),\n",
              " (('valid10', 1), 1),\n",
              " (('srgs', 1), 1),\n",
              " (('expunging', 1), 1),\n",
              " (('interopword', 1), 1),\n",
              " (('uiactivityindicatorview', 1), 1),\n",
              " (('idatareader', 1), 1),\n",
              " (('setimmediate', 1), 1),\n",
              " (('chartpanel', 1), 1),\n",
              " (('nonrooted', 1), 1),\n",
              " (('locationservicesenabled', 1), 1),\n",
              " (('zerocost', 1), 1),\n",
              " (('airtunes', 1), 1),\n",
              " (('equalitycomparertdefault', 1), 1),\n",
              " (('opencv_core249dlib', 1), 1),\n",
              " (('finisarsqlitesqliteexception', 1), 1),\n",
              " (('auth_user', 1), 1),\n",
              " (('mongodbexport', 1), 1),\n",
              " (('stdsignal', 1), 1),\n",
              " (('stdraise', 1), 1),\n",
              " (('getjsonarray', 1), 1),\n",
              " (('customisations', 1), 1),\n",
              " (('tabularinline', 1), 1),\n",
              " (('requests_ntlm', 1), 1),\n",
              " (('wal', 1), 1),\n",
              " (('localstrategy', 1), 1),\n",
              " (('initcomponents', 1), 1),\n",
              " (('validationcontextmembername', 1), 1),\n",
              " (('preformated', 1), 1),\n",
              " (('sizewidth0', 1), 1),\n",
              " (('sizeheight0', 1), 1),\n",
              " (('onitemselectedlistener', 1), 1),\n",
              " (('acknowledging', 1), 1),\n",
              " (('bake', 1), 1),\n",
              " (('microsoftsqlserverdtsruntimevariable', 1), 1),\n",
              " (('getexternallogininfo', 1), 1),\n",
              " (('phpmailersetfrom', 1), 1),\n",
              " (('jsf20', 1), 1),\n",
              " (('xsds', 1), 1),\n",
              " (('type_info', 1), 1),\n",
              " (('metatemplates', 1), 1),\n",
              " (('aspectoriented', 1), 1),\n",
              " (('fixedpoint', 1), 1),\n",
              " (('unions', 1), 1),\n",
              " (('contextsavechanges', 1), 1),\n",
              " (('allcaps', 1), 1),\n",
              " (('parsejson', 1), 1),\n",
              " (('get_template_part', 1), 1),\n",
              " (('inittab', 1), 1),\n",
              " (('utf8_encode', 1), 1),\n",
              " (('browsephp', 1), 1),\n",
              " (('tempnam', 1), 1),\n",
              " (('getmodulefilenameex', 1), 1),\n",
              " (('psapidll', 1), 1),\n",
              " (('pips', 1), 1),\n",
              " (('aptgets', 1), 1),\n",
              " (('pythonmysqldb', 1), 1),\n",
              " (('gruntwebpack', 1), 1),\n",
              " (('userlocation', 1), 1),\n",
              " (('documentbodyonload', 1), 1),\n",
              " (('dropleave', 1), 1),\n",
              " (('ngmodelchange', 1), 1),\n",
              " (('natvis', 1), 1),\n",
              " (('indexlistitems', 1), 1),\n",
              " (('diacritics', 1), 1),\n",
              " (('5x5', 1), 1),\n",
              " (('guarantees', 1), 1),\n",
              " (('validates_acceptance_of', 1), 1),\n",
              " (('wp_logout_url', 1), 1),\n",
              " (('documentcreatedocumentfragment', 1), 1),\n",
              " (('heapys', 1), 1),\n",
              " (('sportsstore', 1), 1),\n",
              " (('stateparams', 1), 1),\n",
              " (('httpopenrequest', 1), 1),\n",
              " (('122', 1), 1),\n",
              " (('bubblenodes', 1), 1),\n",
              " (('overflowauto', 1), 1),\n",
              " (('settranslatesautoresizingmaskintoconstraintsno', 1), 1),\n",
              " (('objectstatemanager', 1), 1),\n",
              " (('joinable', 1), 1),\n",
              " (('mkpointannotation', 1), 1),\n",
              " (('routeattribute', 1), 1),\n",
              " (('ensures', 1), 1),\n",
              " (('197', 1), 1),\n",
              " (('chaine2', 1), 1),\n",
              " (('indexday', 1), 1),\n",
              " (('suncertpathbuilderexception', 1), 1),\n",
              " (('assemblyinitialize', 1), 1),\n",
              " (('afxbeginthread', 1), 1),\n",
              " (('blogger', 1), 1),\n",
              " (('thousend', 1), 1),\n",
              " (('polluted', 1), 1),\n",
              " (('microcontrollers', 1), 1),\n",
              " (('extcomponent', 1), 1),\n",
              " (('palindromic', 1), 1),\n",
              " (('pageviewcontroller', 1), 1),\n",
              " (('uipageviewcontrollerdatasource', 1), 1),\n",
              " (('radially', 1), 1),\n",
              " (('wavefunction', 1), 1),\n",
              " (('oct', 1), 1),\n",
              " (('051921', 1), 1),\n",
              " (('dataintegrityviolationexception', 1), 1),\n",
              " (('cdbcommand', 1), 1),\n",
              " (('cssresolver', 1), 1),\n",
              " (('cssfile', 1), 1),\n",
              " (('numpyarange', 1), 1),\n",
              " (('preparedstatementexecuteupdate', 1), 1),\n",
              " (('exhaution', 1), 1),\n",
              " (('20100910', 1), 1),\n",
              " (('thoroughly', 1), 1),\n",
              " (('pinputmask', 1), 1),\n",
              " (('mask99', 1), 1),\n",
              " (('scriptbut', 1), 1),\n",
              " (('stmtexecute', 1), 1),\n",
              " (('oraclejdbcpooloracleociconnectionpoolgetconnection', 1), 1),\n",
              " (('multimaps', 1), 1),\n",
              " (('xpathdocument', 1), 1),\n",
              " (('executefetchrequest', 1), 1),\n",
              " (('x86_64linux', 1), 1),\n",
              " (('xmlseealso', 1), 1),\n",
              " (('dyncamiclly', 1), 1),\n",
              " (('presentationframework', 1), 1),\n",
              " (('heapq', 1), 1),\n",
              " (('buttonperformclick', 1), 1),\n",
              " (('mergeddictionaries', 1), 1),\n",
              " (('datatableload', 1), 1),\n",
              " (('fbdatareader', 1), 1),\n",
              " (('mousebuttondblclick', 1), 1),\n",
              " (('menuitemicon', 1), 1),\n",
              " (('uilabeltextcolor', 1), 1),\n",
              " (('mo', 1), 1),\n",
              " (('acroform', 1), 1),\n",
              " (('remoteviews', 1), 1),\n",
              " (('php70fpm', 1), 1),\n",
              " (('speicific', 1), 1),\n",
              " (('uitbaleview', 1), 1),\n",
              " (('appconfigready', 1), 1),\n",
              " (('containsvalue', 1), 1),\n",
              " (('0x96', 1), 1),\n",
              " (('pythone', 1), 1),\n",
              " (('unorderable', 1), 1),\n",
              " (('categorygetid', 1), 1),\n",
              " (('selfcleaned_data', 1), 1),\n",
              " (('asqueryable', 1), 1),\n",
              " (('cartoon', 1), 1),\n",
              " (('javaxmailnosuchproviderexception', 1), 1),\n",
              " (('curlopt_cookiejar', 1), 1),\n",
              " (('_bstr_t', 1), 1),\n",
              " (('singlesign', 1), 1),\n",
              " (('archiveddatawithrootobjectselfdata', 1), 1),\n",
              " (('pselectonemenu', 1), 1),\n",
              " (('driverurl', 1), 1),\n",
              " (('drivernavigate', 1), 1),\n",
              " (('gotourl', 1), 1),\n",
              " (('getbytesfast', 1), 1),\n",
              " (('installshield', 1), 1),\n",
              " (('rewritting', 1), 1),\n",
              " (('child_process', 1), 1),\n",
              " (('make_pair', 1), 1),\n",
              " (('posix_memalign', 1), 1),\n",
              " (('retuning', 1), 1),\n",
              " (('applicationwillfinishlaunching', 1), 1),\n",
              " (('qtservice', 1), 1),\n",
              " (('3610', 1), 1),\n",
              " (('autodiscovery', 1), 1),\n",
              " (('categoryslugphp', 1), 1),\n",
              " (('richtextarea', 1), 1),\n",
              " (('barycentric', 1), 1),\n",
              " (('clamping', 1), 1),\n",
              " (('requesturlhost', 1), 1),\n",
              " (('accesscontrolallowmethods', 1), 1),\n",
              " (('textured', 1), 1),\n",
              " (('numerically', 1), 1),\n",
              " (('runinseparateprocess', 1), 1),\n",
              " (('users_url', 1), 1),\n",
              " (('#deviseregistrationscontroller0x00000003b299b0', 1), 1),\n",
              " (('privacy', 1), 1),\n",
              " (('cxampphtdocsindexphp', 1), 1),\n",
              " (('check_function_exists', 1), 1),\n",
              " (('stat_density2d', 1), 1),\n",
              " (('comfasterxmljacksondatabindjavatype', 1), 1),\n",
              " (('bundler_editor', 1), 1),\n",
              " (('dojodataitemfilereadstorefetch', 1), 1),\n",
              " (('wnetaddconnection2', 1), 1),\n",
              " (('basicdbobject', 1), 1),\n",
              " (('ctrl2', 1), 1),\n",
              " (('setfilter', 1), 1),\n",
              " (('vector_m_range_check', 1), 1),\n",
              " (('substituted', 1), 1),\n",
              " (('envnewobject', 1), 1),\n",
              " (('156', 1), 1),\n",
              " (('resultsetnull', 1), 1),\n",
              " (('therubyracer', 1), 1),\n",
              " (('0101', 1), 1),\n",
              " (('cvfindcontours', 1), 1),\n",
              " (('inputoutput', 1), 1),\n",
              " (('discovery', 1), 1),\n",
              " (('systemidentitymodeltokensjwtsecuritytoken', 1), 1),\n",
              " (('gcroot', 1), 1),\n",
              " (('injectableprovider', 1), 1),\n",
              " (('isuue', 1), 1),\n",
              " (('deps', 1), 1),\n",
              " (('regressions', 1), 1),\n",
              " (('commandexecutereader', 1), 1),\n",
              " (('runkit_function_rename', 1), 1),\n",
              " (('deprecationwarnings', 1), 1),\n",
              " (('crossings', 1), 1),\n",
              " (('thisdata', 1), 1),\n",
              " (('oncreateview', 1), 1),\n",
              " (('cnstant', 1), 1),\n",
              " (('nonfragile', 1), 1),\n",
              " (('cia', 1), 1),\n",
              " (('factbook', 1), 1),\n",
              " (('0x80070001', 1), 1),\n",
              " (('script5009', 1), 1),\n",
              " (('nonrenewal', 1), 1),\n",
              " (('beginwidget', 1), 1),\n",
              " (('playlists', 1), 1),\n",
              " (('leftsided', 1), 1),\n",
              " (('amazons3io', 1), 1),\n",
              " (('s3directoryinfo', 1), 1),\n",
              " (('qwt', 1), 1),\n",
              " (('registerarraydeclaration', 1), 1),\n",
              " (('dbsetlocal', 1), 1),\n",
              " (('n3', 1), 1),\n",
              " (('createmultimaterialobject', 1), 1),\n",
              " (('r62', 1), 1),\n",
              " (('couldnotfindmoduleerror', 1), 1),\n",
              " (('checkboxfield', 1), 1),\n",
              " (('uiaccelerometer', 1), 1),\n",
              " (('manhattan', 1), 1),\n",
              " (('keyboardgetstate', 1), 1),\n",
              " (('before_destroy', 1), 1),\n",
              " (('atomicintegerincrementandget', 1), 1),\n",
              " (('stdpairfloat', 1), 1),\n",
              " (('wxauiauimanager', 1), 1),\n",
              " (('hu', 1), 1),\n",
              " (('moments', 1), 1),\n",
              " (('make_response', 1), 1),\n",
              " (('codecoverageexe', 1), 1),\n",
              " (('runsettings', 1), 1),\n",
              " (('statistic', 1), 1),\n",
              " (('love', 1), 1),\n",
              " (('distrust', 1), 1),\n",
              " (('crypter', 1), 1),\n",
              " (('textmodepassword', 1), 1),\n",
              " (('withas', 1), 1),\n",
              " (('balk', 1), 1),\n",
              " (('newtonsoftjsonlinqjarray', 1), 1),\n",
              " (('stdvectort', 1), 1),\n",
              " (('dashboardloading', 1), 1),\n",
              " (('datatemplateselector', 1), 1),\n",
              " (('shget', 1), 1),\n",
              " (('folderpath', 1), 1),\n",
              " (('june', 1), 1),\n",
              " (('ovveriding', 1), 1),\n",
              " (('keysvalues', 1), 1),\n",
              " (('regexe', 1), 1),\n",
              " (('drivermanage', 1), 1),\n",
              " (('implicitlywait', 1), 1),\n",
              " (('timeunitseconds', 1), 1),\n",
              " (('paramerter', 1), 1),\n",
              " (('registrationjsptitle', 1), 1),\n",
              " (('en_gb', 1), 1),\n",
              " (('javaxmailmessage', 1), 1),\n",
              " (('windowing', 1), 1),\n",
              " (('xmlnshttp', 1), 1),\n",
              " (('schemasmicrosoftcom', 1), 1),\n",
              " (('flatpage', 1), 1),\n",
              " (('charcters', 1), 1),\n",
              " (('fsockopen', 1), 1),\n",
              " (('feof', 1), 1),\n",
              " (('clientonly', 1), 1),\n",
              " (('segy', 1), 1),\n",
              " (('unidirection', 1), 1),\n",
              " (('systemdatalinqentityref', 1), 1),\n",
              " (('mysqli_num_rows', 1), 1),\n",
              " (('1304', 1), 1),\n",
              " (('nestedhidden', 1), 1),\n",
              " (('vml', 1), 1),\n",
              " (('568h', 1), 1),\n",
              " (('javasecurityunrecoverablekeyexception', 1), 1),\n",
              " (('eaten', 1), 1),\n",
              " (('comsybasejdbc2jdbcsybsqlexception', 1), 1),\n",
              " (('httprequests', 1), 1),\n",
              " (('standart', 1), 1),\n",
              " (('nilliteralconvertible', 1), 1),\n",
              " (('inlinecallbacks', 1), 1),\n",
              " (('orgcomhibernatehibernateutil', 1), 1),\n",
              " (('cfdataref', 1), 1),\n",
              " (('absolute_import', 1), 1),\n",
              " (('fcbk', 1), 1),\n",
              " (('rarer', 1), 1),\n",
              " (('0xef', 1), 1),\n",
              " (('pythonplotting', 1), 1),\n",
              " (('selectednodechanged', 1), 1),\n",
              " (('elementinsertadjacenthtml', 1), 1),\n",
              " (('transformtoxml', 1), 1),\n",
              " (('satelite', 1), 1),\n",
              " (('windoes', 1), 1),\n",
              " (('pyd', 1), 1),\n",
              " (('baseonpaint', 1), 1),\n",
              " (('chris', 1), 1),\n",
              " (('pine', 1), 1),\n",
              " (('feedparserparse', 1), 1),\n",
              " (('sessionflush', 1), 1),\n",
              " (('iceselectmanycheckbox', 1), 1),\n",
              " (('fileslength', 1), 1),\n",
              " (('decisionswindowsforms', 1), 1),\n",
              " (('version13020000', 1), 1),\n",
              " (('desede', 1), 1),\n",
              " (('subroutine', 1), 1),\n",
              " (('monotonic', 1), 1),\n",
              " (('ballon', 1), 1),\n",
              " (('numpyconcatenate', 1), 1),\n",
              " (('performancewise', 1), 1),\n",
              " (('uiviewcontainers', 1), 1),\n",
              " (('postgresql84', 1), 1),\n",
              " (('callnamedpipe', 1), 1),\n",
              " (('namedpipeserverstream', 1), 1),\n",
              " (('_cvcvhaardetectobjects', 1), 1),\n",
              " (('startarray', 1), 1),\n",
              " (('bindexception', 1), 1),\n",
              " (('ogg', 1), 1),\n",
              " (('gridviewusing', 1), 1),\n",
              " (('usename', 1), 1),\n",
              " (('urllibrequesturlopen', 1), 1),\n",
              " (('sortedmap', 1), 1),\n",
              " (('cellendedit', 1), 1),\n",
              " (('purejavascript', 1), 1),\n",
              " (('_block_type_is_valid', 1), 1),\n",
              " (('mongodbs', 1), 1),\n",
              " (('auth_basic', 1), 1),\n",
              " (('datetimenowutc', 1), 1),\n",
              " (('timecurrentutc', 1), 1),\n",
              " (('bounded', 1), 1),\n",
              " (('isipad', 1), 1),\n",
              " (('nolonger', 1), 1),\n",
              " (('vichuploaderbundle', 1), 1),\n",
              " (('htmltablecellelement', 1), 1),\n",
              " (('illegalargument', 1), 1),\n",
              " (('wsgihandler', 1), 1),\n",
              " (('filejs', 1), 1),\n",
              " (('weblogicxml', 1), 1),\n",
              " (('cvccomplextype24a', 1), 1),\n",
              " (('preferapplicationpackages', 1), 1),\n",
              " (('track_t', 1), 1),\n",
              " (('argumentscalleetostring', 1), 1),\n",
              " (('argumentscalleename', 1), 1),\n",
              " (('derby', 1), 1),\n",
              " (('crossvalidated', 1), 1),\n",
              " (('rsquare', 1), 1),\n",
              " (('putobjectfile', 1), 1),\n",
              " (('pautocomplete', 1), 1),\n",
              " (('getannotation', 1), 1),\n",
              " (('spoken', 1), 1),\n",
              " (('capinsets', 1), 1),\n",
              " (('loginurl', 1), 1),\n",
              " (('pert', 1), 1),\n",
              " (('htmlaction', 1), 1),\n",
              " (('version6220', 1), 1),\n",
              " (('cmd1', 1), 1),\n",
              " (('cmd2', 1), 1),\n",
              " (('dealer', 1), 1),\n",
              " (('700mb', 1), 1),\n",
              " (('ondblclick', 1), 1),\n",
              " (('columnexpression', 1), 1),\n",
              " (('kvm', 1), 1),\n",
              " (('networkrequestfailed', 1), 1),\n",
              " (('full_calendar', 1), 1),\n",
              " (('stata', 1), 1),\n",
              " (('bys', 1), 1),\n",
              " (('_n', 1), 1),\n",
              " (('w8', 1), 1),\n",
              " (('sigill', 1), 1),\n",
              " (('embedd', 1), 1),\n",
              " (('streamcanseek', 1), 1),\n",
              " (('intents', 1), 1),\n",
              " (('highscore', 1), 1),\n",
              " (('requied', 1), 1),\n",
              " (('beforeshowday', 1), 1),\n",
              " (('spoiler', 1), 1),\n",
              " (('storageframeworkview', 1), 1),\n",
              " (('underlining', 1), 1),\n",
              " (('launch4j', 1), 1),\n",
              " (('messagingexception', 1), 1),\n",
              " (('clientsize', 1), 1),\n",
              " (('hlapi', 1), 1),\n",
              " (('proportional', 1), 1),\n",
              " (('redownloading', 1), 1),\n",
              " (('__delitem__', 1), 1),\n",
              " (('collectionsmutablesequence', 1), 1),\n",
              " (('virtualkey', 1), 1),\n",
              " (('webkit_server', 1), 1),\n",
              " (('sucks', 1), 1),\n",
              " (('consolesetcursorposition', 1), 1),\n",
              " (('assignement', 1), 1),\n",
              " (('shouldautorotateno', 1), 1),\n",
              " (('stdget1', 1), 1),\n",
              " (('chai', 1), 1),\n",
              " (('xpoweredby', 1), 1),\n",
              " (('signinmanager', 1), 1),\n",
              " (('asdataframe', 1), 1),\n",
              " (('javaxfacesfactoryfinder', 1), 1),\n",
              " (('icomparablet', 1), 1),\n",
              " (('seleniumwait_for_condition', 1), 1),\n",
              " (('wnetuseconnection', 1), 1),\n",
              " (('ipreviewhandler', 1), 1),\n",
              " (('bomb_baby', 1), 1),\n",
              " (('enumvalue', 1), 1),\n",
              " (('perfom', 1), 1),\n",
              " (('flasksecurity', 1), 1),\n",
              " (('ostype', 1), 1),\n",
              " (('ahead', 1), 1),\n",
              " (('_map', 1), 1),\n",
              " (('mapreducebase', 1), 1),\n",
              " (('sqlresultsetmapping', 1), 1),\n",
              " (('tune', 1), 1),\n",
              " (('namedtuple', 1), 1),\n",
              " (('androidpermissionwrite_secure_settings', 1), 1),\n",
              " (('turtoisesvn', 1), 1),\n",
              " (('webui', 1), 1),\n",
              " (('pings', 1), 1),\n",
              " (('mlpclassifier', 1), 1),\n",
              " (('persistenceprovider', 1), 1),\n",
              " (('navigatorplatform', 1), 1),\n",
              " (('kabpersonaddresscitykey', 1), 1),\n",
              " (('remote_api', 1), 1),\n",
              " (('travelport', 1), 1),\n",
              " (('directorycreatedirectory', 1), 1),\n",
              " (('filealways', 1), 1),\n",
              " (('comobject', 1), 1),\n",
              " (('80070776', 1), 1),\n",
              " (('meteor_wrapasync', 1), 1),\n",
              " (('meteorwrapasync', 1), 1),\n",
              " (('ejbinvokerservlet', 1), 1),\n",
              " (('jmxinvokerservlet', 1), 1),\n",
              " (('javaxwsrsnotsupportedexception', 1), 1),\n",
              " (('selectlistitem', 1), 1),\n",
              " (('modelbinder', 1), 1),\n",
              " (('modelbindersadd', 1), 1),\n",
              " (('predexdebug', 1), 1),\n",
              " (('forgetting', 1), 1),\n",
              " (('myclassmyfunction', 1), 1),\n",
              " (('enumeratefiles', 1), 1),\n",
              " (('cropperjs', 1), 1),\n",
              " (('googlesetonloadcallback', 1), 1),\n",
              " (('barriers', 1), 1),\n",
              " (('semilarge', 1), 1),\n",
              " (('boostprogram_optionsparse_config_file', 1), 1),\n",
              " (('ucwords', 1), 1),\n",
              " (('columntype', 1), 1),\n",
              " (('pill', 1), 1),\n",
              " (('sqlsetconnectattr', 1), 1),\n",
              " (('wideopen', 1), 1),\n",
              " (('+initialize', 1), 1),\n",
              " (('autoconf', 1), 1),\n",
              " (('psutil', 1), 1),\n",
              " (('externalization', 1), 1),\n",
              " (('smallintegerfield', 1), 1),\n",
              " (('dispatch_release', 1), 1),\n",
              " (('collectionparallelstream', 1), 1),\n",
              " (('iteratior', 1), 1),\n",
              " (('rsquo', 1), 1),\n",
              " (('mjpeg', 1), 1),\n",
              " (('jquerymobileloadpage', 1), 1),\n",
              " (('drawingcontextdrawtext', 1), 1),\n",
              " (('signed_request', 1), 1),\n",
              " (('createblockoutputstream', 1), 1),\n",
              " (('ajaxsubmit', 1), 1),\n",
              " (('synchron', 1), 1),\n",
              " (('cholesky', 1), 1),\n",
              " (('nonaggregate', 1), 1),\n",
              " (('listget', 1), 1),\n",
              " (('iinterface', 1), 1),\n",
              " (('200p0', 1), 1),\n",
              " (('dl', 1), 1),\n",
              " (('rac', 1), 1),\n",
              " (('mandrill', 1), 1),\n",
              " (('webhook', 1), 1),\n",
              " (('contentlengthheader', 1), 1),\n",
              " (('toint32', 1), 1),\n",
              " (('xcodes', 1), 1),\n",
              " (('pointertoobject', 1), 1),\n",
              " (('zipjs', 1), 1),\n",
              " (('regtlib', 1), 1),\n",
              " (('functionmysqlrealescapestring', 1), 1),\n",
              " (('gemextbuilderror', 1), 1),\n",
              " (('get_example_data', 1), 1),\n",
              " (('convergence', 1), 1),\n",
              " (('optimizefmin', 1), 1),\n",
              " (('backlight', 1), 1),\n",
              " (('djangocountries', 1), 1),\n",
              " (('compressor', 1), 1),\n",
              " (('hselectmanylistbox', 1), 1),\n",
              " (('fselectitems', 1), 1),\n",
              " (('22122012', 1), 1),\n",
              " (('1700', 1), 1),\n",
              " (('find_or_create_by_id', 1), 1),\n",
              " (('d3axistickformat', 1), 1),\n",
              " (('oracledb', 1), 1),\n",
              " (('hibernatetemplatefindbycriteria', 1), 1),\n",
              " (('deatched', 1), 1),\n",
              " (('dc', 1), 1),\n",
              " (('adopting', 1), 1),\n",
              " (('unregistereduserpost', 1), 1),\n",
              " (('comboboxitemsadd', 1), 1),\n",
              " (('ajenti', 1), 1),\n",
              " (('countbubble', 1), 1),\n",
              " (('sqlite3pp', 1), 1),\n",
              " (('uinitialized', 1), 1),\n",
              " (('coloumn', 1), 1),\n",
              " (('xdk', 1), 1),\n",
              " (('androidosnetworkonmainthreadexception', 1), 1),\n",
              " (('systemnetbrowserclienthttpwebrequestendgetresponse', 1), 1),\n",
              " (('1#ind', 1), 1),\n",
              " (('accordance', 1), 1),\n",
              " (('rootcimv2', 1), 1),\n",
              " (('addressalreadyinuseexception', 1), 1),\n",
              " (('indexjsppageabout', 1), 1),\n",
              " (('aboutjsp', 1), 1),\n",
              " (('outperforming', 1), 1),\n",
              " (('errorrelaxngvrelaxng_err_extracontent', 1), 1),\n",
              " (('gamenot', 1), 1),\n",
              " (('rolegroup', 1), 1),\n",
              " (('loginview', 1), 1),\n",
              " (('fmt', 1), 1),\n",
              " (('thisgetdomnode', 1), 1),\n",
              " (('reapp', 1), 1),\n",
              " (('tabbedpane', 1), 1),\n",
              " (('precendence', 1), 1),\n",
              " (('imlementing', 1), 1),\n",
              " (('irouter', 1), 1),\n",
              " (('filechoose', 1), 1),\n",
              " (('repeatedfield', 1), 1),\n",
              " (('istrustedtrue', 1), 1),\n",
              " (('toolstripstatuslabeltext', 1), 1),\n",
              " (('afxv_w32h', 1), 1),\n",
              " (('webdrivercss', 1), 1),\n",
              " (('bindable', 1), 1),\n",
              " (('onpropertychanged', 1), 1),\n",
              " (('cgpoints', 1), 1),\n",
              " (('relatively', 1), 1),\n",
              " (('domainusername', 1), 1),\n",
              " (('fsref', 1), 1),\n",
              " (('egetmessage', 1), 1),\n",
              " (('marshalsizeof', 1), 1),\n",
              " (('sessioncontextgetbusinessobject', 1), 1),\n",
              " (('daterangefilter', 1), 1),\n",
              " (('uistep', 1), 1),\n",
              " (('10seconds', 1), 1),\n",
              " (('loadedtnx', 1), 1),\n",
              " (('everyone', 1), 1),\n",
              " (('text_field_tags', 1), 1),\n",
              " (('mainc', 1), 1),\n",
              " (('1300', 1), 1),\n",
              " (('5212', 1), 1),\n",
              " (('actionslist', 1), 1),\n",
              " (('soapcall', 1), 1),\n",
              " (('textpointer', 1), 1),\n",
              " (('jqueryselectbox', 1), 1),\n",
              " (('errorvariable', 1), 1),\n",
              " (('cfstring', 1), 1),\n",
              " (('throughput', 1), 1),\n",
              " (('numpyrandom', 1), 1),\n",
              " (('nonimported', 1), 1),\n",
              " (('dwarfdump', 1), 1),\n",
              " (('arraywithcapacity', 1), 1),\n",
              " (('initwithcapacity', 1), 1),\n",
              " (('popenwaitpid', 1), 1),\n",
              " (('systemnetwebsocketsclientwebsocket', 1), 1),\n",
              " (('corefrences', 1), 1),\n",
              " (('ratings', 1), 1),\n",
              " (('aphp', 1), 1),\n",
              " (('taskcompletionsources', 1), 1),\n",
              " (('arraysum', 1), 1),\n",
              " (('shift+enter', 1), 1),\n",
              " (('pgpass', 1), 1),\n",
              " (('dbs', 1), 1),\n",
              " (('establish_connection', 1), 1),\n",
              " (('llvms', 1), 1),\n",
              " (('omniauth+facebook', 1), 1),\n",
              " (('filehandlers', 1), 1),\n",
              " (('loggingproperties', 1), 1),\n",
              " (('specifiy', 1), 1),\n",
              " (('jackjson', 1), 1),\n",
              " (('torquebox', 1), 1),\n",
              " (('projectjson', 1), 1),\n",
              " (('tofile', 1), 1),\n",
              " (('jdatepicker', 1), 1),\n",
              " (('anyclass', 1), 1),\n",
              " (('error_messages_for', 1), 1),\n",
              " (('wss', 1), 1),\n",
              " (('isvisibleproperty', 1), 1),\n",
              " (('exotic', 1), 1),\n",
              " (('stubless', 1), 1),\n",
              " (('multitree', 1), 1),\n",
              " (('autoalign', 1), 1),\n",
              " (('adapterviewonitemclicklistener', 1), 1),\n",
              " (('smtpclientdispose', 1), 1),\n",
              " (('redoing', 1), 1),\n",
              " (('php_ldapdll', 1), 1),\n",
              " (('t1', 1), 1),\n",
              " (('t2', 1), 1),\n",
              " (('get_the_content', 1), 1),\n",
              " (('systemnethttputilityhtmlencode', 1), 1),\n",
              " (('childparentid', 1), 1),\n",
              " (('smalles', 1), 1),\n",
              " (('cgcontextclosepath', 1), 1),\n",
              " (('cgcontextbeginpath', 1), 1),\n",
              " (('icephp', 1), 1),\n",
              " (('zoneid', 1), 1),\n",
              " (('zoneoffset', 1), 1),\n",
              " (('xpathresolver', 1), 1),\n",
              " (('dio', 1), 1),\n",
              " (('authorizing', 1), 1),\n",
              " (('javaappletapplet', 1), 1),\n",
              " (('returned10', 1), 1),\n",
              " (('000080', 1), 1),\n",
              " (('4digit', 1), 1),\n",
              " (('textcontent', 1), 1),\n",
              " (('task_io_service', 1), 1),\n",
              " (('imagingcore', 1), 1),\n",
              " (('proptype', 1), 1),\n",
              " (('postscontainer', 1), 1),\n",
              " (('atof', 1), 1),\n",
              " (('base64outputstream', 1), 1),\n",
              " (('non200', 1), 1),\n",
              " (('podspec', 1), 1),\n",
              " (('controlclientid', 1), 1),\n",
              " (('stringscanner', 1), 1),\n",
              " (('lexing', 1), 1),\n",
              " (('ssl_connect', 1), 1),\n",
              " (('errno0', 1), 1),\n",
              " (('statesslv3', 1), 1),\n",
              " (('unminimize', 1), 1),\n",
              " (('replacment', 1), 1),\n",
              " (('chomedriver', 1), 1),\n",
              " (('phpqrcode', 1), 1),\n",
              " (('scrollviewwillbegindragging', 1), 1),\n",
              " (('stdmake_shared', 1), 1),\n",
              " (('usbgpsreceiver', 1), 1),\n",
              " (('payu', 1), 1),\n",
              " (('#2140', 1), 1),\n",
              " (('colsums', 1), 1),\n",
              " (('encodingbase64', 1), 1),\n",
              " (('0x34df0900', 1), 1),\n",
              " (('format_map', 1), 1),\n",
              " (('runnnig', 1), 1),\n",
              " (('pseudoelement', 1), 1),\n",
              " (('afters', 1), 1),\n",
              " (('smiley', 1), 1),\n",
              " (('abilities', 1), 1),\n",
              " (('servletapijar', 1), 1),\n",
              " (('touchbased', 1), 1),\n",
              " (('max_expansion', 1), 1),\n",
              " (('runtimetype', 1), 1),\n",
              " (('nsiprocess', 1), 1),\n",
              " (('beanmessage', 1), 1),\n",
              " (('skins', 1), 1),\n",
              " (('aspnet4', 1), 1),\n",
              " (('droplist', 1), 1),\n",
              " (('__unicode__', 1), 1),\n",
              " (('__str__', 1), 1),\n",
              " (('isplaying', 1), 1),\n",
              " (('expresstextfilesactiveuserstxt', 1), 1),\n",
              " (('array_chunk', 1), 1),\n",
              " (('portuguese', 1), 1),\n",
              " (('ptbr', 1), 1),\n",
              " (('xdocumentdescendants', 1), 1),\n",
              " (('somethinghere', 1), 1),\n",
              " (('messege', 1), 1),\n",
              " (('decoupling', 1), 1),\n",
              " (('__php_incomplete_class', 1), 1),\n",
              " (('numpymean', 1), 1),\n",
              " (('treevew', 1), 1),\n",
              " (('mockbean', 1), 1),\n",
              " (('nouniquebeandefinitionexception', 1), 1),\n",
              " (('unencoded', 1), 1),\n",
              " (('quering', 1), 1),\n",
              " (('synchronised', 1), 1),\n",
              " (('taskxresult', 1), 1),\n",
              " (('bytestring', 1), 1),\n",
              " (('ajaxified', 1), 1),\n",
              " (('indents', 1), 1),\n",
              " (('u014d', 1), 1),\n",
              " (('41+', 1), 1),\n",
              " (('postinvalidate', 1), 1),\n",
              " (('liststruct', 1), 1),\n",
              " (('scipyioloadmat', 1), 1),\n",
              " (('readprinter', 1), 1),\n",
              " (('winspooldrv', 1), 1),\n",
              " (('update_all', 1), 1),\n",
              " (('databasephp', 1), 1),\n",
              " (('customization', 1), 1),\n",
              " (('savefig', 1), 1),\n",
              " (('error14077438ssl', 1), 1),\n",
              " (('routinesssl23_get_server_hellotlsv1', 1), 1),\n",
              " (('arraystoreexception', 1), 1),\n",
              " (('mapconst_iterator', 1), 1),\n",
              " (('lua_pushcfunction', 1), 1),\n",
              " (('frozenset', 1), 1),\n",
              " (('getmethodid', 1), 1),\n",
              " (('ajax_select', 1), 1),\n",
              " (('touri', 1), 1),\n",
              " (('unwise', 1), 1),\n",
              " (('sqlmethodsdatediffmonth', 1), 1),\n",
              " (('sequencial', 1), 1),\n",
              " (('http_host', 1), 1),\n",
              " (('disclosure', 1), 1),\n",
              " (('uriinvalidurierror', 1), 1),\n",
              " (('tcpresolverquery', 1), 1),\n",
              " (('applicationpoolidentity', 1), 1),\n",
              " (('winttopointercast', 1), 1),\n",
              " (('sizewithattributes', 1), 1),\n",
              " (('inaccuracy', 1), 1),\n",
              " (('selectedrow', 1), 1),\n",
              " (('memorycacheset', 1), 1),\n",
              " (('__getattribute__', 1), 1),\n",
              " (('assemblyinfocs', 1), 1),\n",
              " (('hybi', 1), 1),\n",
              " (('projectnameexe', 1), 1),\n",
              " (('clonestylefrom', 1), 1),\n",
              " (('borderstyle', 1), 1),\n",
              " (('ib_designable', 1), 1),\n",
              " (('unformatted', 1), 1),\n",
              " (('extrapolation', 1), 1),\n",
              " (('setdisplayhomeasupenabled', 1), 1),\n",
              " (('systemio', 1), 1),\n",
              " (('visualbasicfileio', 1), 1),\n",
              " (('nfca', 1), 1),\n",
              " (('clicki', 1), 1),\n",
              " (('elapsedeventhandler', 1), 1),\n",
              " (('pelement', 1), 1),\n",
              " (('subwords', 1), 1),\n",
              " (('unreferenced', 1), 1),\n",
              " (('outerjoin', 1), 1),\n",
              " (('#hellocontroller0x101d7edb0', 1), 1),\n",
              " (('downloadfileasync', 1), 1),\n",
              " (('fbsdkloginmanager', 1), 1),\n",
              " (('loginwithreadpermissions', 1), 1),\n",
              " (('setinteger', 1), 1),\n",
              " (('arraylistentity_bikeshoprepair', 1), 1),\n",
              " (('ctrl+t', 1), 1),\n",
              " (('ctrl+n', 1), 1),\n",
              " (('mojo', 1), 1),\n",
              " (('lual_register', 1), 1),\n",
              " (('mailform', 1), 1),\n",
              " (('eventpagex', 1), 1),\n",
              " (('eventpagey', 1), 1),\n",
              " (('mcr', 1), 1),\n",
              " (('pre_controller', 1), 1),\n",
              " (('build_nativepy', 1), 1),\n",
              " (('3+mini', 1), 1),\n",
              " (('listcustomobject', 1), 1),\n",
              " (('cs0120', 1), 1),\n",
              " (('inkblot', 1), 1),\n",
              " (('textfieldtext', 1), 1),\n",
              " (('urldecoder', 1), 1),\n",
              " (('violating', 1), 1),\n",
              " (('chronometer', 1), 1),\n",
              " (('selectdrows', 1), 1),\n",
              " (('stratego', 1), 1),\n",
              " (('touble', 1), 1),\n",
              " (('validates_presence_of', 1), 1),\n",
              " (('after_initialize', 1), 1),\n",
              " (('mongolab', 1), 1),\n",
              " (('hq', 1), 1),\n",
              " (('newdata', 1), 1),\n",
              " (('displayname', 1), 1),\n",
              " (('oschmod', 1), 1),\n",
              " (('selectedoptions', 1), 1),\n",
              " (('modelformsets', 1), 1),\n",
              " (('managementform', 1), 1),\n",
              " (('tampered', 1), 1),\n",
              " (('enconding', 1), 1),\n",
              " (('unfinishedstubbingexception', 1), 1),\n",
              " (('depended', 1), 1),\n",
              " (('nestedfields', 1), 1),\n",
              " (('list_filter', 1), 1),\n",
              " (('nonarc', 1), 1),\n",
              " (('syntaxerrorexception', 1), 1),\n",
              " (('datatablecompute', 1), 1),\n",
              " (('systemwindowsinteractivity', 1), 1),\n",
              " (('myvar', 1), 1),\n",
              " (('eaddrinuse', 1), 1),\n",
              " (('jenkin', 1), 1),\n",
              " (('asprepeater', 1), 1),\n",
              " (('linearly', 1), 1),\n",
              " (('formatcemployeesaccdb', 1), 1),\n",
              " (('windowcurrentcontent', 1), 1),\n",
              " (('xsendfile', 1), 1),\n",
              " (('resumesupport', 1), 1),\n",
              " (('time_wait', 1), 1),\n",
              " (('multistage', 1), 1),\n",
              " (('enumgetunderlyingtype', 1), 1),\n",
              " (('densities', 1), 1),\n",
              " (('servletrequest', 1), 1),\n",
              " (('typelibtype', 1), 1),\n",
              " (('typelibtypeflagsfhidden', 1), 1),\n",
              " (('subwindow', 1), 1),\n",
              " (('adminautodiscover', 1), 1),\n",
              " (('cone', 1), 1),\n",
              " (('html5s', 1), 1),\n",
              " (('sslsocket', 1), 1),\n",
              " (('reacttoolboxs', 1), 1),\n",
              " (('directory_separator', 1), 1),\n",
              " (('pheatmap', 1), 1),\n",
              " (('outs', 1), 1),\n",
              " (('datatypemismatchincriteriaexpressionerror', 1), 1),\n",
              " (('favored', 1), 1),\n",
              " (('assured', 1), 1),\n",
              " (('randomshuffle', 1), 1),\n",
              " (('radnumerictextbox', 1), 1),\n",
              " (('mouselistener', 1), 1),\n",
              " (('conversely', 1), 1),\n",
              " (('systemthreadingabandonedmutexexception', 1), 1),\n",
              " (('systemsecurityprincipalwindowsidentitygetcurrent', 1), 1),\n",
              " (('jaxbcontextfinder', 1), 1),\n",
              " (('datatablesjs', 1), 1),\n",
              " (('lpvoid', 1), 1),\n",
              " (('memcachd', 1), 1),\n",
              " (('columng', 1), 1),\n",
              " (('loginjs17', 1), 1),\n",
              " (('evaluates', 1), 1),\n",
              " (('signtool', 1), 1),\n",
              " (('invalidselectorexception', 1), 1),\n",
              " (('editprofile', 1), 1),\n",
              " (('x2746', 1), 1),\n",
              " (('inconclusive', 1), 1),\n",
              " (('getgeneratedkeys', 1), 1),\n",
              " (('dataattribute', 1), 1),\n",
              " (('requestfocus', 1), 1),\n",
              " (('uitablevieweditingstyle', 1), 1),\n",
              " (('chtmllink', 1), 1),\n",
              " (('mousehover', 1), 1),\n",
              " (('unscrambler', 1), 1),\n",
              " (('reactchartjs', 1), 1),\n",
              " (('appreciated', 1), 1),\n",
              " (('recode', 1), 1),\n",
              " (('printers', 1), 1),\n",
              " (('mavenglassfishplugin', 1), 1),\n",
              " (('icc', 1), 1),\n",
              " (('gdbinit', 1), 1),\n",
              " (('prettyprinters', 1), 1),\n",
              " (('servletrequestgetparameter', 1), 1),\n",
              " (('servletrequestutilsgetstringparameter', 1), 1),\n",
              " (('dataframesum', 1), 1),\n",
              " ...]"
            ]
          },
          "metadata": {
            "tags": []
          },
          "execution_count": 27
        }
      ]
    },
    {
      "cell_type": "markdown",
      "metadata": {
        "id": "Xk7M4uJ_TF-8",
        "colab_type": "text"
      },
      "source": [
        "## Task - 3 Transforming text to a vector (10 points)\n",
        "\n",
        "Machine Learning algorithms work with numeric data and we cannot use the provided text data \"as is\". There are many ways to transform text data to numeric vectors. In this task you will try to use two of them.\n",
        "\n",
        "#### Bag of words\n",
        "\n",
        "One of the well-known approaches is a *bag-of-words* representation. To create this transformation, follow the steps:\n",
        "1. Find *N* most popular words in train corpus and numerate them. Now we have a dictionary of the most popular words.\n",
        "2. For each title in the corpora create a zero vector with the dimension equals to *N*.\n",
        "3. For each text in the corpora iterate over words which are in the dictionary and increase by 1 the corresponding coordinate.\n",
        "\n",
        "Let's try to do it for a toy example. Imagine that we have *N* = 4 and the list of the most popular words is \n",
        "\n",
        "    ['hi', 'you', 'me', 'are']\n",
        "\n",
        "Then we need to numerate them, for example, like this: \n",
        "\n",
        "    {'hi': 0, 'you': 1, 'me': 2, 'are': 3}\n",
        "\n",
        "And we have the text, which we want to transform to the vector:\n",
        "\n",
        "    'hi how are you'\n",
        "\n",
        "For this text we create a corresponding zero vector \n",
        "\n",
        "    [0, 0, 0, 0]\n",
        "    \n",
        "And iterate over all words, and if the word is in the dictionary, we increase the value of the corresponding position in the vector:\n",
        "\n",
        "    'hi':  [1, 0, 0, 0]\n",
        "    'how': [1, 0, 0, 0] # word 'how' is not in our dictionary\n",
        "    'are': [1, 0, 0, 1]\n",
        "    'you': [1, 1, 0, 1]\n",
        "\n",
        "The resulting vector will be \n",
        "\n",
        "    [1, 1, 0, 1]\n",
        "   \n",
        "Implement the described encoding in the function *my_bag_of_words* with the size of the dictionary equals to 5000. To find the most common words use train data. You can test your code using the function *test_my_bag_of_words*."
      ]
    },
    {
      "cell_type": "code",
      "metadata": {
        "id": "6ER1oq48TF-9",
        "colab_type": "code",
        "colab": {}
      },
      "source": [
        "most_common_words = sorted(words_counts.items(), key=lambda x: x[1], reverse=True)[:6000]\n",
        "DICT_SIZE = 5000\n",
        "WORDS_TO_INDEX = {p[0]:i for i,p in enumerate(most_common_words[:DICT_SIZE])} ####### YOUR CODE HERE #######\n",
        "INDEX_TO_WORDS = {WORDS_TO_INDEX[k]:k for k in WORDS_TO_INDEX}####### YOUR CODE HERE #######\n",
        "ALL_WORDS = WORDS_TO_INDEX.keys()\n",
        "\n",
        "def my_bag_of_words(text, words_to_index, dict_size):\n",
        "    \"\"\"\n",
        "        text: a string\n",
        "        dict_size: size of the dictionary\n",
        "        \n",
        "        return a vector which is a bag-of-words representation of 'text'\n",
        "    \"\"\"\n",
        "    \n",
        "    result_vector = np.zeros(dict_size)\n",
        "    for word in text.split():\n",
        "        if word in words_to_index:\n",
        "            result_vector[words_to_index[word]] += 1\n",
        "    \n",
        "    return result_vector"
      ],
      "execution_count": 0,
      "outputs": []
    },
    {
      "cell_type": "code",
      "metadata": {
        "id": "qnLYWnsaTF_A",
        "colab_type": "code",
        "colab": {}
      },
      "source": [
        "def test_my_bag_of_words():\n",
        "    words_to_index = {'hi': 0, 'you': 1, 'me': 2, 'are': 3}\n",
        "    examples = ['hi how are you']\n",
        "    answers = [[1, 1, 0, 1]]\n",
        "    for ex, ans in zip(examples, answers):\n",
        "        if (my_bag_of_words(ex, words_to_index, 4) != ans).any():\n",
        "            return \"Wrong answer for the case: '%s'\" % ex\n",
        "    return 'Basic tests are passed.'"
      ],
      "execution_count": 0,
      "outputs": []
    },
    {
      "cell_type": "markdown",
      "metadata": {
        "id": "mOlSiUqEW3jD",
        "colab_type": "text"
      },
      "source": [
        "Execute the test_text_prepare function <br>\n",
        "*<u>Note:</u> You should pass the above test to ensure BOW is working correctly!*"
      ]
    },
    {
      "cell_type": "code",
      "metadata": {
        "id": "cqWhoF24TF_D",
        "colab_type": "code",
        "colab": {
          "base_uri": "https://localhost:8080/",
          "height": 34
        },
        "outputId": "9090a6b3-0da0-4cb1-9101-ab3dae8dc152"
      },
      "source": [
        "test_my_bag_of_words()"
      ],
      "execution_count": 34,
      "outputs": [
        {
          "output_type": "execute_result",
          "data": {
            "text/plain": [
              "'Basic tests are passed.'"
            ]
          },
          "metadata": {
            "tags": []
          },
          "execution_count": 34
        }
      ]
    },
    {
      "cell_type": "markdown",
      "metadata": {
        "id": "BXW3ALCITF_H",
        "colab_type": "text"
      },
      "source": [
        "Now apply the implemented function to all samples (this might take up to a minute):"
      ]
    },
    {
      "cell_type": "code",
      "metadata": {
        "id": "m39xHB2yTF_H",
        "colab_type": "code",
        "colab": {}
      },
      "source": [
        "from scipy import sparse as sp_sparse"
      ],
      "execution_count": 0,
      "outputs": []
    },
    {
      "cell_type": "code",
      "metadata": {
        "id": "6DZwPWB1TF_K",
        "colab_type": "code",
        "colab": {
          "base_uri": "https://localhost:8080/",
          "height": 68
        },
        "outputId": "a5b06b70-4cae-41d3-df81-c5da058764be"
      },
      "source": [
        "X_train_mybag = sp_sparse.vstack([sp_sparse.csr_matrix(my_bag_of_words(text, WORDS_TO_INDEX, DICT_SIZE)) for text in X_train])\n",
        "X_val_mybag = sp_sparse.vstack([sp_sparse.csr_matrix(my_bag_of_words(text, WORDS_TO_INDEX, DICT_SIZE)) for text in X_val])\n",
        "X_test_mybag = sp_sparse.vstack([sp_sparse.csr_matrix(my_bag_of_words(text, WORDS_TO_INDEX, DICT_SIZE)) for text in X_test])\n",
        "print('X_train shape ', X_train_mybag.shape)\n",
        "print('X_val shape ', X_val_mybag.shape)\n",
        "print('X_test shape ', X_test_mybag.shape)"
      ],
      "execution_count": 36,
      "outputs": [
        {
          "output_type": "stream",
          "text": [
            "X_train shape  (100000, 5000)\n",
            "X_val shape  (30000, 5000)\n",
            "X_test shape  (20000, 5000)\n"
          ],
          "name": "stdout"
        }
      ]
    },
    {
      "cell_type": "markdown",
      "metadata": {
        "id": "WPXTUeNSTF_N",
        "colab_type": "text"
      },
      "source": [
        "As you might notice, we transform the data to sparse representation, to store the useful information efficiently. There are many types: of such representations, however sklearn algorithms can work only with  csr matrix, so we will use this one.<br>\n",
        "<u>Documentations on sparse matrix:</u> <br>\n",
        "(https://docs.scipy.org/doc/scipy/reference/generated/scipy.sparse.csr_matrix.html#scipy.sparse.csr_matrix) \n",
        "(https://docs.scipy.org/doc/scipy/reference/sparse.html)\n",
        "\n"
      ]
    },
    {
      "cell_type": "markdown",
      "metadata": {
        "id": "i8AMzsVxTF_Q",
        "colab_type": "text"
      },
      "source": [
        "\n",
        "For the 11th row in *X_train_mybag* find how many non-zero elements it has. In this task the answer (variable *non_zero_elements_count*) should be a number, e.g. 20."
      ]
    },
    {
      "cell_type": "code",
      "metadata": {
        "id": "bOetzSLzTF_S",
        "colab_type": "code",
        "colab": {
          "base_uri": "https://localhost:8080/",
          "height": 51
        },
        "outputId": "ba6ff611-5998-422a-e0c8-7168464d3664"
      },
      "source": [
        "X_train_mybag[11][0]"
      ],
      "execution_count": 42,
      "outputs": [
        {
          "output_type": "execute_result",
          "data": {
            "text/plain": [
              "<1x5000 sparse matrix of type '<class 'numpy.float64'>'\n",
              "\twith 6 stored elements in Compressed Sparse Row format>"
            ]
          },
          "metadata": {
            "tags": []
          },
          "execution_count": 42
        }
      ]
    },
    {
      "cell_type": "markdown",
      "metadata": {
        "id": "GYAFKGfKTF_V",
        "colab_type": "text"
      },
      "source": [
        "## Task 4 - TF-IDF (5 points)\n",
        "\n",
        "The second approach extends the bag-of-words framework by taking into account total frequencies of words in the corpora. It helps to penalize too frequent words and provide better features space. \n",
        "\n",
        "Implement function *tfidf_features* using class  from *scikit-learn*. Use *train* corpus to train a vectorizer. Don't forget to take a look into the arguments that you can pass to it. We suggest that you filter out too rare words (occur less than in 5 titles) and too frequent words (occur more than in 90% of the titles). Also, use bigrams along with unigrams in your vocabulary. "
      ]
    },
    {
      "cell_type": "markdown",
      "metadata": {
        "id": "1s3uEKmjYpuh",
        "colab_type": "text"
      },
      "source": [
        "## Write a function which takes x_train, x_val and x_test as input and return the tf-idf features of the same and the vocabulary"
      ]
    },
    {
      "cell_type": "code",
      "metadata": {
        "id": "lkz1RYsBTF_Z",
        "colab_type": "code",
        "colab": {}
      },
      "source": [
        "from sklearn.feature_extraction.text import TfidfVectorizer"
      ],
      "execution_count": 0,
      "outputs": []
    },
    {
      "cell_type": "code",
      "metadata": {
        "id": "o6V7FPirTF_i",
        "colab_type": "code",
        "colab": {}
      },
      "source": [
        "def tfidf_features(X_train, X_val, X_test):\n",
        "    tfidf_vectorizer = TfidfVectorizer(min_df=5, max_df=0.9, ngram_range=(1, 2),\n",
        "                                       token_pattern='(\\S+)')  \n",
        "    X_train_tfidf=tfidf_vectorizer.fit_transform(X_train)\n",
        "    X_val_tfidf=tfidf_vectorizer.transform(X_val)\n",
        "    X_test_tfidf=tfidf_vectorizer.transform(X_test)\n",
        "    \n",
        "    return X_train_tfidf, X_val_tfidf, X_test_tfidf, tfidf_vectorizer.vocabulary_"
      ],
      "execution_count": 0,
      "outputs": []
    },
    {
      "cell_type": "code",
      "metadata": {
        "id": "ySnV2zCBTF_p",
        "colab_type": "code",
        "colab": {}
      },
      "source": [
        "X_train_tfidf, X_val_tfidf, X_test_tfidf, tfidf_vocab = tfidf_features(X_train, X_val, X_test)\n",
        "tfidf_reversed_vocab = {i:word for word,i in tfidf_vocab.items()}\n"
      ],
      "execution_count": 0,
      "outputs": []
    },
    {
      "cell_type": "markdown",
      "metadata": {
        "id": "o_aopTTNL5G1",
        "colab_type": "text"
      },
      "source": [
        "Print the index of string \"C#\" in the vocabulary"
      ]
    },
    {
      "cell_type": "code",
      "metadata": {
        "id": "kZ-3wqTTMCRi",
        "colab_type": "code",
        "colab": {
          "base_uri": "https://localhost:8080/",
          "height": 34
        },
        "outputId": "ec7c08ec-51c2-461c-d7ad-b29329a59faa"
      },
      "source": [
        "tfidf_vocab[\"mail\"]\n",
        "#tfidf_reversed_vocab"
      ],
      "execution_count": 61,
      "outputs": [
        {
          "output_type": "execute_result",
          "data": {
            "text/plain": [
              "9578"
            ]
          },
          "metadata": {
            "tags": []
          },
          "execution_count": 61
        }
      ]
    },
    {
      "cell_type": "markdown",
      "metadata": {
        "id": "ZYYO2kdiTF_6",
        "colab_type": "text"
      },
      "source": [
        "## Task 5: Classification (15 points)\n",
        "MultiLabel classifier\n",
        "\n",
        "As we have noticed before, in this task each example can have multiple tags. To deal with such kind of prediction, we need to transform labels in a binary form and the prediction will be a mask of 0s and 1s. For this purpose it is convenient to use MultiLabelBinarizer from sklearn. <br>\n",
        "<u>Documentation:</u> <br>\n",
        "http://scikit-learn.org/stable/modules/generated/sklearn.preprocessing.MultiLabelBinarizer.html"
      ]
    },
    {
      "cell_type": "code",
      "metadata": {
        "id": "ojeCe_e_TF_7",
        "colab_type": "code",
        "colab": {}
      },
      "source": [
        "from sklearn.preprocessing import MultiLabelBinarizer"
      ],
      "execution_count": 0,
      "outputs": []
    },
    {
      "cell_type": "code",
      "metadata": {
        "id": "p8JYQr8YTF_-",
        "colab_type": "code",
        "colab": {}
      },
      "source": [
        "mlb = MultiLabelBinarizer(classes=sorted(tags_counts.keys()))\n",
        "y_train = mlb.fit_transform(y_train)\n",
        "y_val = mlb.fit_transform(y_val)"
      ],
      "execution_count": 0,
      "outputs": []
    },
    {
      "cell_type": "markdown",
      "metadata": {
        "id": "qN1NUA3DTGAB",
        "colab_type": "text"
      },
      "source": [
        "In this task we suggest to use One-vs-Rest approach, which is implemented in [OneVsRestClassifier](http://scikit-learn.org/stable/modules/generated/sklearn.multiclass.OneVsRestClassifier.html) class. In this approach *k* classifiers (= number of tags) are trained. As a basic classifier, use [LogisticRegression](http://scikit-learn.org/stable/modules/generated/sklearn.linear_model.LogisticRegression.html). It is one of the simplest methods, but often it performs good enough in text classification tasks. It might take some time, because a number of classifiers to train is large.\n",
        "\n",
        "**OneVsRest multi-label strategy**\n",
        "\n",
        "The Multi-label algorithm accepts a binary mask over multiple labels. The result for each prediction will be an array of 0s and 1s marking which class labels apply to each row input sample.\n",
        "\n",
        "**Logistic Regression & SVM**\n",
        "\n",
        "OneVsRest strategy can be used for multi-label learning, where a classifier is used to predict multiple labels for instance. LR & SVM supports multi-class, but we are in a multi-label scenario, therefore, we wrap classifiers in the OneVsRestClassifier.\n",
        "\n",
        "*If you want to learn more about OneVsRest, check out these links:*\n",
        "- *https://towardsdatascience.com/multi-label-text-classification-with-scikit-learn-30714b7819c5*\n",
        "- *https://towardsdatascience.com/journey-to-the-center-of-multi-label-classification-384c40229bff*\n",
        "- *https://medium.com/coinmonks/multi-label-classification-blog-tags-prediction-using-nlp-b0b5ee6686fc*"
      ]
    },
    {
      "cell_type": "code",
      "metadata": {
        "id": "2Pj6MDkbTGAC",
        "colab_type": "code",
        "colab": {}
      },
      "source": [
        "from sklearn.multiclass import OneVsRestClassifier\n",
        "from sklearn.linear_model import LogisticRegression\n",
        "from sklearn.svm import SVC, LinearSVC"
      ],
      "execution_count": 0,
      "outputs": []
    },
    {
      "cell_type": "code",
      "metadata": {
        "id": "eUHZR2TWTGAF",
        "colab_type": "code",
        "colab": {}
      },
      "source": [
        "def train_classifier(X_train, y_train):\n",
        "    # Create and fit LogisticRegression and LinearSVC wraped into OneVsRestClassifier.\n",
        "\n",
        "    ######################################\n",
        "    ######### YOUR CODE HERE #############\n",
        "    ###################################### \n",
        "    \n",
        "    return clf  ### clf is the model"
      ],
      "execution_count": 0,
      "outputs": []
    },
    {
      "cell_type": "markdown",
      "metadata": {
        "id": "k660NfRFTGAL",
        "colab_type": "text"
      },
      "source": [
        "Train the classifiers for different data transformations: *bag-of-words* and *tf-idf*.\n",
        "classifier_mybag = model for "
      ]
    },
    {
      "cell_type": "code",
      "metadata": {
        "id": "jXyhN-yDTGAP",
        "colab_type": "code",
        "colab": {}
      },
      "source": [
        "classifier_mybag = train_classifier(X_train_mybag, y_train)\n",
        "classifier_tfidf = train_classifier(X_train_tfidf, y_train)"
      ],
      "execution_count": 0,
      "outputs": []
    },
    {
      "cell_type": "markdown",
      "metadata": {
        "id": "ijQZCd9cTGAU",
        "colab_type": "text"
      },
      "source": [
        "Now you can create predictions for the data. You will need two types of predictions: labels and scores."
      ]
    },
    {
      "cell_type": "code",
      "metadata": {
        "id": "0QT7uWddTGAV",
        "colab_type": "code",
        "colab": {}
      },
      "source": [
        "y_val_predicted_labels_mybag = classifier_mybag.predict(X_val_mybag)\n",
        "y_val_predicted_scores_mybag = classifier_mybag.decision_function(X_val_mybag)\n",
        "\n",
        "y_val_predicted_labels_tfidf = classifier_tfidf.predict(X_val_tfidf)\n",
        "y_val_predicted_scores_tfidf = classifier_tfidf.decision_function(X_val_tfidf)"
      ],
      "execution_count": 0,
      "outputs": []
    },
    {
      "cell_type": "markdown",
      "metadata": {
        "id": "p9n0TEtHTGAj",
        "colab_type": "text"
      },
      "source": [
        "Now, we would need to compare the results of different predictions, e.g. to see whether TF-IDF transformation helps or to try different regularization techniques in logistic regression. For all these experiments, we need to setup evaluation procedure. "
      ]
    },
    {
      "cell_type": "markdown",
      "metadata": {
        "id": "RVqAxDxqTGAk",
        "colab_type": "text"
      },
      "source": [
        "## Evaluation (10 points)\n",
        "\n",
        "To evaluate the results we will use several classification metrics:\n",
        " - [Accuracy](http://scikit-learn.org/stable/modules/generated/sklearn.metrics.accuracy_score.html)\n",
        " - [F1-score](http://scikit-learn.org/stable/modules/generated/sklearn.metrics.f1_score.html)\n",
        " - [Area under ROC-curve](http://scikit-learn.org/stable/modules/generated/sklearn.metrics.roc_auc_score.html)\n",
        " - [Area under precision-recall curve](http://scikit-learn.org/stable/modules/generated/sklearn.metrics.average_precision_score.html#sklearn.metrics.average_precision_score) \n",
        " \n",
        "Make sure you are familiar with all of them. If you want a refresher, you can click the link to their documentation"
      ]
    },
    {
      "cell_type": "markdown",
      "metadata": {
        "id": "_YmNhVsU9K9-",
        "colab_type": "text"
      },
      "source": [
        "## Import the necessary libraries for the above metrics"
      ]
    },
    {
      "cell_type": "code",
      "metadata": {
        "id": "tBvrkOUYTGAl",
        "colab_type": "code",
        "colab": {}
      },
      "source": [
        ""
      ],
      "execution_count": 0,
      "outputs": []
    },
    {
      "cell_type": "markdown",
      "metadata": {
        "id": "vNkYBl_wTGAp",
        "colab_type": "text"
      },
      "source": [
        "Define the function *print_evaluation_scores* which takes y_val and predicted as input calculates and prints the following output:\n",
        " - *accuracy*\n",
        " - *F1-score - Average = 'weighted'* \n",
        " - *Precision - Average = 'macro'*"
      ]
    },
    {
      "cell_type": "code",
      "metadata": {
        "id": "-4nevWnhTGAq",
        "colab_type": "code",
        "colab": {}
      },
      "source": [
        "def print_evaluation_scores(y_val, predicted):\n",
        "    \n"
      ],
      "execution_count": 0,
      "outputs": []
    },
    {
      "cell_type": "code",
      "metadata": {
        "id": "G92GIO4dTGAt",
        "colab_type": "code",
        "colab": {}
      },
      "source": [
        "print('Bag-of-words')\n",
        "print_evaluation_scores(y_val, y_val_predicted_labels_mybag)\n",
        "print('Tfidf')\n",
        "print_evaluation_scores(y_val, y_val_predicted_labels_tfidf)"
      ],
      "execution_count": 0,
      "outputs": []
    },
    {
      "cell_type": "markdown",
      "metadata": {
        "id": "kT7oso8ZTGAv",
        "colab_type": "text"
      },
      "source": [
        "You might also want to plot some form of the [ROC curve](http://scikit-learn.org/stable/modules/model_evaluation.html#receiver-operating-characteristic-roc) for the case of multi-label classification. The input parameters for the roc curve are:\n",
        " - true labels\n",
        " - decision functions scores\n",
        " - number of classes"
      ]
    },
    {
      "cell_type": "markdown",
      "metadata": {
        "id": "x4hbW3SeBVxz",
        "colab_type": "text"
      },
      "source": [
        "Import the roc_auc function from the metrics.py file provided"
      ]
    },
    {
      "cell_type": "code",
      "metadata": {
        "id": "G_9M0AI4TGAv",
        "colab_type": "code",
        "colab": {}
      },
      "source": [
        ""
      ],
      "execution_count": 0,
      "outputs": []
    },
    {
      "cell_type": "code",
      "metadata": {
        "id": "sZaymN4uTGA0",
        "colab_type": "code",
        "colab": {}
      },
      "source": [
        ""
      ],
      "execution_count": 0,
      "outputs": []
    },
    {
      "cell_type": "code",
      "metadata": {
        "id": "XwNpUEVLTGA2",
        "colab_type": "code",
        "colab": {}
      },
      "source": [
        ""
      ],
      "execution_count": 0,
      "outputs": []
    },
    {
      "cell_type": "markdown",
      "metadata": {
        "id": "9S3Ddz7LTGA3",
        "colab_type": "text"
      },
      "source": [
        "## Task 4 (MultilabelClassification) - Optional \n",
        "** Once we have the evaluation set up, we suggest that you experiment a bit with training your classifiers. We will use *F1-score weighted* as an evaluation metric. Our recommendation:\n",
        "- compare the quality of the bag-of-words and TF-IDF approaches and chose one of them.\n",
        "- for the chosen one, try *L1* and *L2*-regularization techniques in Logistic Regression with different coefficients (e.g. C equal to 0.1, 1, 10, 100).\n",
        "\n"
      ]
    },
    {
      "cell_type": "code",
      "metadata": {
        "id": "Ers40KuOTGA4",
        "colab_type": "code",
        "colab": {}
      },
      "source": [
        "######################################\n",
        "######### YOUR CODE HERE #############\n",
        "######################################"
      ],
      "execution_count": 0,
      "outputs": []
    },
    {
      "cell_type": "markdown",
      "metadata": {
        "id": "mdqTO269TGA8",
        "colab_type": "text"
      },
      "source": [
        "When you are happy with the quality, create predictions for *test* set."
      ]
    },
    {
      "cell_type": "code",
      "metadata": {
        "id": "M51F10f9TGBB",
        "colab_type": "code",
        "colab": {}
      },
      "source": [
        ""
      ],
      "execution_count": 0,
      "outputs": []
    }
  ]
}